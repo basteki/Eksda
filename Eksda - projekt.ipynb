{
 "cells": [
  {
   "cell_type": "markdown",
   "metadata": {},
   "source": [
    "# Raport - Eksploracja Danych\n",
    "# Temat 2 - \"Określanie poziomu zarobków\""
   ]
  },
  {
   "cell_type": "markdown",
   "metadata": {
    "collapsed": true
   },
   "source": [
    "\n",
    "Przygotowali: Agnieszka Alechno i Igor Bastek\n",
    "\n",
    "\n",
    "\n",
    "Przekazana nam do analizy baza danych zawiera wiele szczegółowych informacji, \n",
    "które pozwolą na wyliczenie jakie jest prawdopodobieństwo, iż dana osoba zarabia \n",
    "powyżej 50 tysięcy dolarów rocznie.\n",
    "\n",
    "Zacznjmy od wczytania bazy z pliku do macierzy, aby móc się jej lepiej przyjrzeć:"
   ]
  },
  {
   "cell_type": "code",
   "execution_count": 1,
   "metadata": {
    "collapsed": false
   },
   "outputs": [],
   "source": [
    "import pandas as pd\n",
    "import numpy as np\n",
    "\n",
    "%matplotlib inline\n",
    "import matplotlib.pyplot as plt"
   ]
  },
  {
   "cell_type": "code",
   "execution_count": 2,
   "metadata": {
    "collapsed": false
   },
   "outputs": [
    {
     "data": {
      "text/html": [
       "<div>\n",
       "<table border=\"1\" class=\"dataframe\">\n",
       "  <thead>\n",
       "    <tr style=\"text-align: right;\">\n",
       "      <th></th>\n",
       "      <th>age</th>\n",
       "      <th>workclass</th>\n",
       "      <th>fnlwgt</th>\n",
       "      <th>education</th>\n",
       "      <th>education.num</th>\n",
       "      <th>marital.status</th>\n",
       "      <th>occupation</th>\n",
       "      <th>relationship</th>\n",
       "      <th>race</th>\n",
       "      <th>sex</th>\n",
       "      <th>capital.gain</th>\n",
       "      <th>capital.loss</th>\n",
       "      <th>hours.per.week</th>\n",
       "      <th>native.country</th>\n",
       "      <th>income</th>\n",
       "    </tr>\n",
       "  </thead>\n",
       "  <tbody>\n",
       "    <tr>\n",
       "      <th>0</th>\n",
       "      <td>90</td>\n",
       "      <td>?</td>\n",
       "      <td>77053</td>\n",
       "      <td>HS-grad</td>\n",
       "      <td>9</td>\n",
       "      <td>Widowed</td>\n",
       "      <td>?</td>\n",
       "      <td>Not-in-family</td>\n",
       "      <td>White</td>\n",
       "      <td>Female</td>\n",
       "      <td>0</td>\n",
       "      <td>4356</td>\n",
       "      <td>40</td>\n",
       "      <td>United-States</td>\n",
       "      <td>&lt;=50K</td>\n",
       "    </tr>\n",
       "    <tr>\n",
       "      <th>1</th>\n",
       "      <td>82</td>\n",
       "      <td>Private</td>\n",
       "      <td>132870</td>\n",
       "      <td>HS-grad</td>\n",
       "      <td>9</td>\n",
       "      <td>Widowed</td>\n",
       "      <td>Exec-managerial</td>\n",
       "      <td>Not-in-family</td>\n",
       "      <td>White</td>\n",
       "      <td>Female</td>\n",
       "      <td>0</td>\n",
       "      <td>4356</td>\n",
       "      <td>18</td>\n",
       "      <td>United-States</td>\n",
       "      <td>&lt;=50K</td>\n",
       "    </tr>\n",
       "  </tbody>\n",
       "</table>\n",
       "</div>"
      ],
      "text/plain": [
       "   age workclass  fnlwgt education  education.num marital.status  \\\n",
       "0   90         ?   77053   HS-grad              9        Widowed   \n",
       "1   82   Private  132870   HS-grad              9        Widowed   \n",
       "\n",
       "        occupation   relationship   race     sex  capital.gain  capital.loss  \\\n",
       "0                ?  Not-in-family  White  Female             0          4356   \n",
       "1  Exec-managerial  Not-in-family  White  Female             0          4356   \n",
       "\n",
       "   hours.per.week native.country income  \n",
       "0              40  United-States  <=50K  \n",
       "1              18  United-States  <=50K  "
      ]
     },
     "execution_count": 2,
     "metadata": {},
     "output_type": "execute_result"
    }
   ],
   "source": [
    "data = pd.read_table('adult.csv',sep=',')\n",
    "data.head(2)"
   ]
  },
  {
   "cell_type": "markdown",
   "metadata": {},
   "source": [
    "Niektóre z atrybutów oznaczono jako '?'. Sprawdźmy jak wiele luk ma zatem baza danych."
   ]
  },
  {
   "cell_type": "code",
   "execution_count": 3,
   "metadata": {
    "collapsed": false
   },
   "outputs": [
    {
     "name": "stdout",
     "output_type": "stream",
     "text": [
      "Private\n"
     ]
    },
    {
     "data": {
      "text/plain": [
       "2399"
      ]
     },
     "execution_count": 3,
     "metadata": {},
     "output_type": "execute_result"
    }
   ],
   "source": [
    "blankCounter =0\n",
    "print(data['workclass'][13])\n",
    "for i in range(0, len(data)):#workclass,occupation, country\n",
    "    if data['age'][i] =='?' or data['workclass'][i] =='?' or data['fnlwgt'][i] =='?' or data['education'][i] =='?' or data['education.num'][i] =='?' or data['marital.status'][i] =='?' or data['occupation'][i] =='?' or data['relationship'][i] =='?'  or data['race'][i] =='?' or data['sex'][i] =='?' or data['capital.gain'][i] =='?'or data['capital.loss'][i] =='?' or data['hours.per.week'][i] =='?' or data['native.country'][i] =='?':\n",
    "        blankCounter+=1\n",
    "blankCounter"
   ]
  },
  {
   "cell_type": "markdown",
   "metadata": {},
   "source": [
    "Liczba ta stanowi ~7,5% wszystkich rekordów. Co ciekawe brakujące dane należą wyłącznie do kolumn 'workclass','occupation','country'\n",
    "Możliwe więc że nie są to luki, lecz przypadki niemożliwe do zaklasyfikowania w zbiorze wartości określonym przez twórców bazy. Uznaliśmy że można '?' traktować jako poprawną wartość pola i nie modyfikować bazy."
   ]
  },
  {
   "cell_type": "markdown",
   "metadata": {},
   "source": [
    "Przejdźmy zatem do analizy naszej bazy, rozpocznając od prostego grupowania konkretnych atrybutów z interesującymi nas statystykami przychodów naszej bazy. Jest to bardzo prosta, ale skuteczna metodą analizy, dająca często wyniki ocenialne na pierwszy rzut oka."
   ]
  },
  {
   "cell_type": "code",
   "execution_count": 4,
   "metadata": {
    "collapsed": false
   },
   "outputs": [
    {
     "data": {
      "text/plain": [
       "sex     income\n",
       "Female  <=50K      9592\n",
       "        >50K       1179\n",
       "Male    <=50K     15128\n",
       "        >50K       6662\n",
       "dtype: int64"
      ]
     },
     "execution_count": 4,
     "metadata": {},
     "output_type": "execute_result"
    }
   ],
   "source": [
    "data1 = data.groupby(['sex','income']).size() \n",
    "data1"
   ]
  },
  {
   "cell_type": "markdown",
   "metadata": {},
   "source": [
    "Wyniki wskazują jasno, że istnieje zależność między płcią danej osoby, a jej płacą. Tylko 12,29% kobiet przekracz nasz próg w porównaniu do 44,04% dla mężczyzn. W celu pokazania szerszego przykładu możemy sprawdzić zależność poziomu edukacji do płacy:"
   ]
  },
  {
   "cell_type": "code",
   "execution_count": 5,
   "metadata": {
    "collapsed": false
   },
   "outputs": [
    {
     "data": {
      "text/plain": [
       "education     income\n",
       "10th          <=50K      871\n",
       "              >50K        62\n",
       "11th          <=50K     1115\n",
       "              >50K        60\n",
       "12th          <=50K      400\n",
       "              >50K        33\n",
       "1st-4th       <=50K      162\n",
       "              >50K         6\n",
       "5th-6th       <=50K      317\n",
       "              >50K        16\n",
       "7th-8th       <=50K      606\n",
       "              >50K        40\n",
       "9th           <=50K      487\n",
       "              >50K        27\n",
       "Assoc-acdm    <=50K      802\n",
       "              >50K       265\n",
       "Assoc-voc     <=50K     1021\n",
       "              >50K       361\n",
       "Bachelors     <=50K     3134\n",
       "              >50K      2221\n",
       "Doctorate     <=50K      107\n",
       "              >50K       306\n",
       "HS-grad       <=50K     8826\n",
       "              >50K      1675\n",
       "Masters       <=50K      764\n",
       "              >50K       959\n",
       "Preschool     <=50K       51\n",
       "Prof-school   <=50K      153\n",
       "              >50K       423\n",
       "Some-college  <=50K     5904\n",
       "              >50K      1387\n",
       "dtype: int64"
      ]
     },
     "execution_count": 5,
     "metadata": {},
     "output_type": "execute_result"
    }
   ],
   "source": [
    "data2 = data.groupby(['education','income']).size()\n",
    "data2\n"
   ]
  },
  {
   "cell_type": "markdown",
   "metadata": {
    "collapsed": false
   },
   "source": [
    "Tu również widać, iż poziom edukacji ma wyraźny wpływ na szansę dobrych zarobków. Przejrzenie osób danych osób pogrupowanych  według zbioru o dużej liczbie wartości, takich jak wiek, mogłoby być ciężkie, podzielmy ich zatem na dekady i przyjrzyjmy sie graficznemu wykresowi:"
   ]
  },
  {
   "cell_type": "code",
   "execution_count": 6,
   "metadata": {
    "collapsed": false
   },
   "outputs": [
    {
     "name": "stdout",
     "output_type": "stream",
     "text": [
      "% osób zarabiających powyzej 50K $ rocznie, po 80:      14.14\n",
      "% osób zarabiających powyzej 50K $ rocznie, po 70:      18.14\n",
      "% osób zarabiających powyzej 50K $ rocznie, po 60:      25.50\n",
      "% osób zarabiających powyzej 50K $ rocznie, po 50:      37.48\n",
      "% osób zarabiających powyzej 50K $ rocznie, po 40:      38.02\n",
      "% osób zarabiających powyzej 50K $ rocznie, po 30:      28.15\n",
      "% osób zarabiających powyzej 50K $ rocznie, po 20:       8.33\n",
      "% osób zarabiających powyzej 50K $ rocznie, po 10:       0.08\n"
     ]
    }
   ],
   "source": [
    "#age 10+, 20+, 30+...\n",
    "overByAge = [0,0,0,0,0,0,0,0,0,0]\n",
    "allByAge = [0,0,0,0,0,0,0,0,0,0]\n",
    "percentageByAge = [0,0,0,0,0,0,0,0,0,0]\n",
    "\n",
    "\n",
    "for i in range(0,len(data.income)):\n",
    "\n",
    "    if  data.age[i]>80:\n",
    "        allByAge[8] += 1 \n",
    "        if (data.age[i]>80) and str(data.income[i]) == '>50K' :\n",
    "            overByAge[8] += 1\n",
    "    \n",
    "    elif data.age[i]>70:\n",
    "        allByAge[7] += 1 \n",
    "        if (data.age[i]>70) and str(data.income[i]) == '>50K' :\n",
    "            overByAge[7] += 1\n",
    "        \n",
    "    elif data.age[i]>60:\n",
    "        allByAge[6] += 1 \n",
    "        if (data.age[i]>60) and str(data.income[i]) == '>50K' :\n",
    "            overByAge[6] += 1\n",
    "        \n",
    "    elif data.age[i]>50:\n",
    "        allByAge[5] += 1 \n",
    "        if (data.age[i]>50) and str(data.income[i]) == '>50K' :\n",
    "            overByAge[5] += 1\n",
    "        \n",
    "    elif data.age[i]>40:\n",
    "        allByAge[4] += 1 \n",
    "        if (data.age[i]>40) and str(data.income[i]) == '>50K' :\n",
    "            overByAge[4] += 1\n",
    "        \n",
    "    elif data.age[i]>30:\n",
    "        allByAge[3] += 1 \n",
    "        if (data.age[i]>30) and str(data.income[i]) == '>50K' :\n",
    "            overByAge[3] += 1\n",
    "        \n",
    "    elif data.age[i]>20:\n",
    "        allByAge[2] += 1 \n",
    "        if (data.age[i]>20) and str(data.income[i]) == '>50K' :\n",
    "            overByAge[2] += 1\n",
    "        \n",
    "    elif data.age[i]>10:\n",
    "        allByAge[1] += 1 \n",
    "        if (data.age[i]>10) and str(data.income[i]) == '>50K' :\n",
    "            overByAge[1] += 1\n",
    "    elif data.age[i]>0:\n",
    "        allByAge[0] += 1 \n",
    "        if (data.age[i]>1) and str(data.income[i]) == '>50K' :\n",
    "            overByAge[0] += 1\n",
    "for i in range(0,9):\n",
    "    if allByAge[i] !=0 :\n",
    "        percentageByAge[i] = overByAge[i]*100/allByAge[i]  \n",
    "# percentageByAge[7] = overByAge[7]*100/allByAge[7] \n",
    "# percentageByAge[6] = overByAge[6]*100/allByAge[6] \n",
    "# percentageByAge[5] = overByAge[5]*100/allByAge[5] \n",
    "# percentageByAge[4] = overByAge[4]*100/allByAge[4] \n",
    "# percentageByAge[3] = overByAge[3]*100/allByAge[3] \n",
    "# percentageByAge[2] = overByAge[2]*100/allByAge[2] \n",
    "# percentageByAge[1] = overByAge[1]*100/allByAge[1] \n",
    "# percentageByAge[0] = overByAge[0]*100/allByAge[0] \n",
    "print('% osób zarabiających powyzej 50K $ rocznie, po 80: '+ \"{:10.2f}\".format(percentageByAge[8]) )\n",
    "print('% osób zarabiających powyzej 50K $ rocznie, po 70: '+ \"{:10.2f}\".format(percentageByAge[7]) )\n",
    "print('% osób zarabiających powyzej 50K $ rocznie, po 60: '+ \"{:10.2f}\".format(percentageByAge[6]) )\n",
    "print('% osób zarabiających powyzej 50K $ rocznie, po 50: '+ \"{:10.2f}\".format(percentageByAge[5]) )\n",
    "print('% osób zarabiających powyzej 50K $ rocznie, po 40: '+ \"{:10.2f}\".format(percentageByAge[4]) )\n",
    "print('% osób zarabiających powyzej 50K $ rocznie, po 30: '+ \"{:10.2f}\".format(percentageByAge[3]) )\n",
    "print('% osób zarabiających powyzej 50K $ rocznie, po 20: '+ \"{:10.2f}\".format(percentageByAge[2]) )\n",
    "print('% osób zarabiających powyzej 50K $ rocznie, po 10: '+ \"{:10.2f}\".format(percentageByAge[1]) )"
   ]
  },
  {
   "cell_type": "code",
   "execution_count": 7,
   "metadata": {
    "collapsed": false
   },
   "outputs": [
    {
     "data": {
      "text/plain": [
       "[<matplotlib.lines.Line2D at 0x9e6aba8>]"
      ]
     },
     "execution_count": 7,
     "metadata": {},
     "output_type": "execute_result"
    },
    {
     "data": {
      "image/png": "[encoded data removed]",
      "text/plain": [
       "<matplotlib.figure.Figure at 0x9ab95c0>"
      ]
     },
     "metadata": {},
     "output_type": "display_data"
    }
   ],
   "source": [
    "plt.plot(percentageByAge, 'g-')"
   ]
  },
  {
   "cell_type": "markdown",
   "metadata": {},
   "source": [
    "Jak widać ponad 1/3 osób pomiędzy 40 a 60 rokeim życia zarabia powyżej 50K $"
   ]
  },
  {
   "cell_type": "code",
   "execution_count": 8,
   "metadata": {
    "collapsed": false
   },
   "outputs": [
    {
     "data": {
      "text/plain": [
       "race                income\n",
       "Amer-Indian-Eskimo  <=50K       275\n",
       "                    >50K         36\n",
       "Asian-Pac-Islander  <=50K       763\n",
       "                    >50K        276\n",
       "Black               <=50K      2737\n",
       "                    >50K        387\n",
       "Other               <=50K       246\n",
       "                    >50K         25\n",
       "White               <=50K     20699\n",
       "                    >50K       7117\n",
       "dtype: int64"
      ]
     },
     "execution_count": 8,
     "metadata": {},
     "output_type": "execute_result"
    }
   ],
   "source": [
    "data3 = data.groupby(['race','income']).size()\n",
    "data3.head(100)"
   ]
  },
  {
   "cell_type": "markdown",
   "metadata": {
    "collapsed": true
   },
   "source": [
    "Na tej samej zasadzie co powyżej utworzyliśmy pierwszą funkcję próbującą podawać ostateczną odpowiedź na problem postawiony w naszym zadaniu.\n",
    "Wybiera ona trzy najbardziej skrajne statystycznie wartości podanej osoby i odpowiada na ich podstawie czy osoba ta zarabia więcej niż 50K $ rocznie. Dodatkowo podaje wyliczone prawdopodobieństwo takiego stanu rzeczy."
   ]
  },
  {
   "cell_type": "code",
   "execution_count": 9,
   "metadata": {
    "collapsed": false
   },
   "outputs": [
    {
     "name": "stdout",
     "output_type": "stream",
     "text": [
      "Prawie niemożliwe - 10.557996533130883\n"
     ]
    },
    {
     "data": {
      "text/plain": [
       "'Decyzja algorytmu: False'"
      ]
     },
     "execution_count": 9,
     "metadata": {},
     "output_type": "execute_result"
    }
   ],
   "source": [
    "import math\n",
    "\n",
    "def manageChosen(Chosen, current):\n",
    "    for i in range (0,3):\n",
    "        #32 to odsetek ludzi przekraczajacych próg, funkcja oszacuje prawd. na jej podstawie\n",
    "        if (math.fabs(current-32)> math.fabs(Chosen[i]-32) ):\n",
    "            tmp = Chosen[i]\n",
    "            Chosen[i] = current\n",
    "            current=tmp\n",
    "    return Chosen\n",
    "       \n",
    "def isTheirIncomeOver( int_age, str_workclass, str_education, int_education_num, str_marital_status, str_occupation, str_relationship, str_race, str_sex, int_hours_per_week, str_native_country, printProb):\n",
    "    decision = False\n",
    "    variableAll =0\n",
    "    variableOve =0\n",
    "    variablePer =0\n",
    "    \n",
    "    threeChosen = [32,32,32]    \n",
    "    ####### Przepraszamy za ścianę kodu, próby zebrania poniższych pętli w jedną zakończyły się fiaskiem\n",
    "    for a in range(0,len(data.age)):\n",
    "        if  data.age[a] == int_age:\n",
    "            variableAll+=1\n",
    "            if str(data.income[a])=='>50K':\n",
    "                variableOve+=1\n",
    "    if variableAll != 0:\n",
    "        variablePer = (variableOve*100)/variableAll     \n",
    "    else:\n",
    "        print('Jeden z argumentów nie ma odpowiednika w bazie')\n",
    "    \n",
    "    threeChosen= manageChosen(threeChosen, variablePer)\n",
    "\n",
    "    variableAll =0\n",
    "    variableOve =0\n",
    "    variablePer =0\n",
    "    \n",
    "    for w in range(0,len(data.workclass)):\n",
    "        if  data.workclass[w] == str_workclass:\n",
    "            variableAll+=1\n",
    "            if str(data.income[w])=='>50K':\n",
    "                variableOve+=1\n",
    "    if variableAll != 0:\n",
    "        variablePer = (variableOve*100)/variableAll           \n",
    "    else:\n",
    "        print('Jeden z argumentów nie ma odpowiednika w bazie')\n",
    "    \n",
    "    threeChosen= manageChosen(threeChosen, variablePer)\n",
    "\n",
    "    variableAll =0\n",
    "    variableOve =0\n",
    "    variablePer =0\n",
    "    \n",
    "    for en in range(0,len(data) ):\n",
    "        if  data['education.num'][en] == int_education_num:\n",
    "            variableAll+=1\n",
    "            if str(data.income[en])=='>50K':\n",
    "                variableOve+=1\n",
    "    if variableAll != 0:\n",
    "          variablePer = (variableOve*100)/variableAll           \n",
    "    else:\n",
    "        print('Jeden z argumentów nie ma odpowiednika w bazie')\n",
    "    \n",
    "    threeChosen= manageChosen(threeChosen, variablePer)\n",
    "\n",
    "    variableAll =0\n",
    "    variableOve =0\n",
    "    variablePer =0\n",
    "    \n",
    "    for e in range(0,len(data.education)):\n",
    "        if  data.education[e] == str_education:\n",
    "            variableAll+=1\n",
    "            if str(data.income[e])=='>50K':\n",
    "                variableOve+=1\n",
    "    if variableAll != 0:\n",
    "        variablePer = (variableOve*100)/variableAll           \n",
    "    else:\n",
    "        print('Jeden z argumentów nie ma odpowiednika w bazie')\n",
    "    \n",
    "    threeChosen= manageChosen(threeChosen, variablePer)\n",
    "\n",
    "    variableAll =0\n",
    "    variableOve =0\n",
    "    variablePer =0\n",
    " \n",
    "    for m in range(0,len(data['marital.status'])):\n",
    "        if  data['marital.status'][m] == str_marital_status:\n",
    "            variableAll+=1\n",
    "            if str(data.income[m])=='>50K':\n",
    "                variableOve+=1\n",
    "    if variableAll != 0:\n",
    "        variablePer = (variableOve*100)/variableAll           \n",
    "    else:\n",
    "        print('Jeden z argumentów nie ma odpowiednika w bazie')\n",
    "    \n",
    "    threeChosen= manageChosen(threeChosen, variablePer)\n",
    "\n",
    "    variableAll =0\n",
    "    variableOve =0\n",
    "    variablePer =0\n",
    "    \n",
    "    for o in range(0,len(data['occupation'])):\n",
    "        if  data['occupation'][o] == str_occupation:\n",
    "            variableAll+=1\n",
    "            if str(data.income[o])=='>50K':\n",
    "                variableOve+=1\n",
    "    if variableAll != 0:\n",
    "        variablePer = (variableOve*100)/variableAll           \n",
    "    else:\n",
    "        print('Jeden z argumentów nie ma odpowiednika w bazie')\n",
    "    \n",
    "    threeChosen= manageChosen(threeChosen, variablePer)\n",
    "\n",
    "    variableAll =0\n",
    "    variableOve =0\n",
    "    variablePer =0\n",
    "    \n",
    "    for r in range(0,len(data['relationship'])):\n",
    "        if  data['relationship'][r] == str_relationship:\n",
    "            variableAll+=1\n",
    "            if str(data.income[r])=='>50K':\n",
    "                variableOve+=1\n",
    "    if variableAll != 0:\n",
    "        variablePer = (variableOve*100)/variableAll           \n",
    "    else:\n",
    "        print('Jeden z argumentów nie ma odpowiednika w bazie')\n",
    "    \n",
    "    threeChosen= manageChosen(threeChosen, variablePer)\n",
    " \n",
    "    variableAll =0\n",
    "    variableOve =0\n",
    "    variablePer =0\n",
    "    \n",
    "    for ra in range(0,len(data['race'])):\n",
    "        if  data['race'][ra] == str_race:\n",
    "            variableAll+=1\n",
    "            if str(data.income[ra])=='>50K':\n",
    "                variableOve+=1\n",
    "    if variableAll != 0:\n",
    "        variablePer = (variableOve*100)/variableAll           \n",
    "    else:\n",
    "        print('Jeden z argumentów nie ma odpowiednika w bazie')\n",
    "    \n",
    "    threeChosen= manageChosen(threeChosen, variablePer)\n",
    "\n",
    "    variableAll =0\n",
    "    variableOve =0\n",
    "    variablePer =0\n",
    "    \n",
    "    for s in range(0,len(data['sex'])):\n",
    "        if  data['sex'][s] == str_sex:\n",
    "            variableAll+=1\n",
    "            if str(data.income[s])=='>50K':\n",
    "                variableOve+=1\n",
    "    if variableAll != 0:\n",
    "        variablePer = (variableOve*100)/variableAll           \n",
    "    else:\n",
    "        print('Jeden z argumentów nie ma odpowiednika w bazie')\n",
    "    \n",
    "    threeChosen= manageChosen(threeChosen, variablePer)\n",
    "\n",
    "    variableAll =0\n",
    "    variableOve =0\n",
    "    variablePer =0\n",
    "    \n",
    "    for h in range(0,len(data['hours.per.week'])):\n",
    "        if  data['hours.per.week'][h] == int_hours_per_week:\n",
    "            variableAll+=1\n",
    "            if str(data.income[h])=='>50K':\n",
    "                variableOve+=1\n",
    "    if variableAll != 0:\n",
    "        variablePer = (variableOve*100)/variableAll           \n",
    "    else:\n",
    "        print('Jeden z argumentów nie ma odpowiednika w bazie')\n",
    "    \n",
    "    threeChosen= manageChosen(threeChosen, variablePer)\n",
    "\n",
    "    variableAll =0\n",
    "    variableOve =0\n",
    "    variablePer =0\n",
    "    \n",
    "    for n in range(0,len(data['native.country'])):\n",
    "        if  data['native.country'][n] == str_native_country:\n",
    "            variableAll+=1\n",
    "            if str(data.income[n])=='>50K':\n",
    "                variableOve+=1\n",
    "    if variableAll != 0:\n",
    "        variablePer = (variableOve*100)/variableAll           \n",
    "    else:\n",
    "        print('Jeden z argumentów nie ma odpowiednika w bazie')\n",
    "    \n",
    "    threeChosen= manageChosen(threeChosen, variablePer)\n",
    "    \n",
    "    variableAll =0\n",
    "    variableOve =0\n",
    "    variablePer =0\n",
    "    \n",
    "######## Po wybraniu najbardziej skrajnych elementów, na podstawie ich sumy klasyfikujemy osobę do grupy prawdopodobieństwa\n",
    "    \n",
    "\n",
    "    pSum = threeChosen[0] + threeChosen[1] +threeChosen[2]\n",
    "    prob = (pSum/3)\n",
    "    \n",
    "    if(pSum > 128):\n",
    "        if printProb =='Yes':\n",
    "            print('Prawie pewne - ' + str(prob) )\n",
    "        decision = True\n",
    "    elif(pSum > 96):\n",
    "        if printProb =='Yes':\n",
    "            print('Bardzo prawdopodobne - '  + str(prob) )\n",
    "        decision = True\n",
    "    elif(pSum > 80):\n",
    "        if printProb =='Yes':\n",
    "            print('Prawdopodobne - ' + str(prob))\n",
    "        decision = True\n",
    "    elif(pSum > 48):\n",
    "        if printProb =='Yes':\n",
    "            print('Możliwe - ' + str(prob) )\n",
    "    elif(pSum > 0):\n",
    "        if printProb =='Yes':\n",
    "            print('Prawie niemożliwe - ' + str(prob) )\n",
    "   \n",
    "    \n",
    "    return 'Decyzja algorytmu: ' + str(decision)\n",
    "\n",
    "\n",
    "isTheirIncomeOver(68,'Federal-gov','HS-grad', 9, 'Divorced', 'Prof-specialty' ,'Not-in-family','White','Female',40,'United-States', 'Yes' )"
   ]
  },
  {
   "cell_type": "markdown",
   "metadata": {},
   "source": [
    "Jak widać wybrany rekord nie przekroczył progu, którego oczekiwał algorytm i jest oceniony na osobę nie zarabiającą powyżej 50K $ Potwierdza to rzeczywistość, bo zbiór danych określa przychód tej osoby na poniżej progu. Sprawdzmy osobę go przekraczającą:\n",
    "    "
   ]
  },
  {
   "cell_type": "code",
   "execution_count": 10,
   "metadata": {
    "collapsed": false
   },
   "outputs": [
    {
     "data": {
      "text/plain": [
       "'Decyzja algorytmu: True'"
      ]
     },
     "execution_count": 10,
     "metadata": {},
     "output_type": "execute_result"
    }
   ],
   "source": [
    "isTheirIncomeOver(43,\"Private\", \"Masters\",14,\"Divorced\",\"Exec-managerial\",\"Unmarried\",\"White\",\"Female\",40,\"United-States\",'No')"
   ]
  },
  {
   "cell_type": "markdown",
   "metadata": {},
   "source": [
    "I tym razem algorytm pokrył się z prawdą. Sprawdzmy teraz skuteczność funkcji na większesz części naszej bazy.\n"
   ]
  },
  {
   "cell_type": "code",
   "execution_count": 12,
   "metadata": {
    "collapsed": false
   },
   "outputs": [
    {
     "name": "stdout",
     "output_type": "stream",
     "text": [
      "Poprawność = 95.23809523809523%\n"
     ]
    }
   ],
   "source": [
    "funcResult = []\n",
    "actualResult = []\n",
    "#Uwaga: nie przesadzać z zakresem, wolno się wykonywuje\n",
    "rangeMin = 4010\n",
    "rangeMax = 4031\n",
    "for i in range (rangeMin, rangeMax):\n",
    "    funcResult.append(isTheirIncomeOver(data['age'][i],data['workclass'][i],data['education'][i],data['education.num'][i],data['marital.status'][i],data['occupation'][i],data['relationship'][i],data['race'][i],data['sex'][i],data['hours.per.week'][i],data['native.country'][i], 'No'))\n",
    "\n",
    "for i in range (rangeMin, rangeMax):\n",
    "    if data.income[i] == '>50K':\n",
    "        actualResult.append('Decyzja algorytmu: True')\n",
    "        \n",
    "    else:\n",
    "        actualResult.append('Decyzja algorytmu: False')\n",
    "correctCounter = 0\n",
    "for i in range (0, rangeMax-rangeMin):\n",
    "    if funcResult[i]== actualResult[i]:\n",
    "        correctCounter+=1\n",
    "\n",
    "print('Poprawność = ' + str( (correctCounter/(rangeMax- rangeMin ) ) *100 ) + '%' )\n"
   ]
  },
  {
   "cell_type": "markdown",
   "metadata": {
    "collapsed": true
   },
   "source": [
    "Algorytm ma około ~80% skuteczności co uznajemy za satysfakcjonujący wynik tego eksperymentalnego pomysłu. "
   ]
  },
  {
   "cell_type": "markdown",
   "metadata": {},
   "source": [
    "# KNN"
   ]
  },
  {
   "cell_type": "code",
   "execution_count": 69,
   "metadata": {
    "collapsed": false
   },
   "outputs": [
    {
     "data": {
      "text/html": [
       "<div>\n",
       "<table border=\"1\" class=\"dataframe\">\n",
       "  <thead>\n",
       "    <tr style=\"text-align: right;\">\n",
       "      <th></th>\n",
       "      <th>age</th>\n",
       "      <th>fnlwgt</th>\n",
       "      <th>education.num</th>\n",
       "      <th>capital.gain</th>\n",
       "      <th>capital.loss</th>\n",
       "      <th>hours.per.week</th>\n",
       "      <th>workclass_?</th>\n",
       "      <th>workclass_Federal-gov</th>\n",
       "      <th>workclass_Local-gov</th>\n",
       "      <th>workclass_Never-worked</th>\n",
       "      <th>...</th>\n",
       "      <th>native.country_Scotland</th>\n",
       "      <th>native.country_South</th>\n",
       "      <th>native.country_Taiwan</th>\n",
       "      <th>native.country_Thailand</th>\n",
       "      <th>native.country_Trinadad&amp;Tobago</th>\n",
       "      <th>native.country_United-States</th>\n",
       "      <th>native.country_Vietnam</th>\n",
       "      <th>native.country_Yugoslavia</th>\n",
       "      <th>income_&lt;=50K</th>\n",
       "      <th>income_&gt;50K</th>\n",
       "    </tr>\n",
       "  </thead>\n",
       "  <tbody>\n",
       "    <tr>\n",
       "      <th>0</th>\n",
       "      <td>90</td>\n",
       "      <td>77053</td>\n",
       "      <td>9</td>\n",
       "      <td>0</td>\n",
       "      <td>4356</td>\n",
       "      <td>40</td>\n",
       "      <td>1.0</td>\n",
       "      <td>0.0</td>\n",
       "      <td>0.0</td>\n",
       "      <td>0.0</td>\n",
       "      <td>...</td>\n",
       "      <td>0.0</td>\n",
       "      <td>0.0</td>\n",
       "      <td>0.0</td>\n",
       "      <td>0.0</td>\n",
       "      <td>0.0</td>\n",
       "      <td>1.0</td>\n",
       "      <td>0.0</td>\n",
       "      <td>0.0</td>\n",
       "      <td>1.0</td>\n",
       "      <td>0.0</td>\n",
       "    </tr>\n",
       "    <tr>\n",
       "      <th>1</th>\n",
       "      <td>82</td>\n",
       "      <td>132870</td>\n",
       "      <td>9</td>\n",
       "      <td>0</td>\n",
       "      <td>4356</td>\n",
       "      <td>18</td>\n",
       "      <td>0.0</td>\n",
       "      <td>0.0</td>\n",
       "      <td>0.0</td>\n",
       "      <td>0.0</td>\n",
       "      <td>...</td>\n",
       "      <td>0.0</td>\n",
       "      <td>0.0</td>\n",
       "      <td>0.0</td>\n",
       "      <td>0.0</td>\n",
       "      <td>0.0</td>\n",
       "      <td>1.0</td>\n",
       "      <td>0.0</td>\n",
       "      <td>0.0</td>\n",
       "      <td>1.0</td>\n",
       "      <td>0.0</td>\n",
       "    </tr>\n",
       "    <tr>\n",
       "      <th>2</th>\n",
       "      <td>66</td>\n",
       "      <td>186061</td>\n",
       "      <td>10</td>\n",
       "      <td>0</td>\n",
       "      <td>4356</td>\n",
       "      <td>40</td>\n",
       "      <td>1.0</td>\n",
       "      <td>0.0</td>\n",
       "      <td>0.0</td>\n",
       "      <td>0.0</td>\n",
       "      <td>...</td>\n",
       "      <td>0.0</td>\n",
       "      <td>0.0</td>\n",
       "      <td>0.0</td>\n",
       "      <td>0.0</td>\n",
       "      <td>0.0</td>\n",
       "      <td>1.0</td>\n",
       "      <td>0.0</td>\n",
       "      <td>0.0</td>\n",
       "      <td>1.0</td>\n",
       "      <td>0.0</td>\n",
       "    </tr>\n",
       "    <tr>\n",
       "      <th>3</th>\n",
       "      <td>54</td>\n",
       "      <td>140359</td>\n",
       "      <td>4</td>\n",
       "      <td>0</td>\n",
       "      <td>3900</td>\n",
       "      <td>40</td>\n",
       "      <td>0.0</td>\n",
       "      <td>0.0</td>\n",
       "      <td>0.0</td>\n",
       "      <td>0.0</td>\n",
       "      <td>...</td>\n",
       "      <td>0.0</td>\n",
       "      <td>0.0</td>\n",
       "      <td>0.0</td>\n",
       "      <td>0.0</td>\n",
       "      <td>0.0</td>\n",
       "      <td>1.0</td>\n",
       "      <td>0.0</td>\n",
       "      <td>0.0</td>\n",
       "      <td>1.0</td>\n",
       "      <td>0.0</td>\n",
       "    </tr>\n",
       "    <tr>\n",
       "      <th>4</th>\n",
       "      <td>41</td>\n",
       "      <td>264663</td>\n",
       "      <td>10</td>\n",
       "      <td>0</td>\n",
       "      <td>3900</td>\n",
       "      <td>40</td>\n",
       "      <td>0.0</td>\n",
       "      <td>0.0</td>\n",
       "      <td>0.0</td>\n",
       "      <td>0.0</td>\n",
       "      <td>...</td>\n",
       "      <td>0.0</td>\n",
       "      <td>0.0</td>\n",
       "      <td>0.0</td>\n",
       "      <td>0.0</td>\n",
       "      <td>0.0</td>\n",
       "      <td>1.0</td>\n",
       "      <td>0.0</td>\n",
       "      <td>0.0</td>\n",
       "      <td>1.0</td>\n",
       "      <td>0.0</td>\n",
       "    </tr>\n",
       "    <tr>\n",
       "      <th>5</th>\n",
       "      <td>34</td>\n",
       "      <td>216864</td>\n",
       "      <td>9</td>\n",
       "      <td>0</td>\n",
       "      <td>3770</td>\n",
       "      <td>45</td>\n",
       "      <td>0.0</td>\n",
       "      <td>0.0</td>\n",
       "      <td>0.0</td>\n",
       "      <td>0.0</td>\n",
       "      <td>...</td>\n",
       "      <td>0.0</td>\n",
       "      <td>0.0</td>\n",
       "      <td>0.0</td>\n",
       "      <td>0.0</td>\n",
       "      <td>0.0</td>\n",
       "      <td>1.0</td>\n",
       "      <td>0.0</td>\n",
       "      <td>0.0</td>\n",
       "      <td>1.0</td>\n",
       "      <td>0.0</td>\n",
       "    </tr>\n",
       "    <tr>\n",
       "      <th>6</th>\n",
       "      <td>38</td>\n",
       "      <td>150601</td>\n",
       "      <td>6</td>\n",
       "      <td>0</td>\n",
       "      <td>3770</td>\n",
       "      <td>40</td>\n",
       "      <td>0.0</td>\n",
       "      <td>0.0</td>\n",
       "      <td>0.0</td>\n",
       "      <td>0.0</td>\n",
       "      <td>...</td>\n",
       "      <td>0.0</td>\n",
       "      <td>0.0</td>\n",
       "      <td>0.0</td>\n",
       "      <td>0.0</td>\n",
       "      <td>0.0</td>\n",
       "      <td>1.0</td>\n",
       "      <td>0.0</td>\n",
       "      <td>0.0</td>\n",
       "      <td>1.0</td>\n",
       "      <td>0.0</td>\n",
       "    </tr>\n",
       "    <tr>\n",
       "      <th>7</th>\n",
       "      <td>74</td>\n",
       "      <td>88638</td>\n",
       "      <td>16</td>\n",
       "      <td>0</td>\n",
       "      <td>3683</td>\n",
       "      <td>20</td>\n",
       "      <td>0.0</td>\n",
       "      <td>0.0</td>\n",
       "      <td>0.0</td>\n",
       "      <td>0.0</td>\n",
       "      <td>...</td>\n",
       "      <td>0.0</td>\n",
       "      <td>0.0</td>\n",
       "      <td>0.0</td>\n",
       "      <td>0.0</td>\n",
       "      <td>0.0</td>\n",
       "      <td>1.0</td>\n",
       "      <td>0.0</td>\n",
       "      <td>0.0</td>\n",
       "      <td>0.0</td>\n",
       "      <td>1.0</td>\n",
       "    </tr>\n",
       "    <tr>\n",
       "      <th>8</th>\n",
       "      <td>68</td>\n",
       "      <td>422013</td>\n",
       "      <td>9</td>\n",
       "      <td>0</td>\n",
       "      <td>3683</td>\n",
       "      <td>40</td>\n",
       "      <td>0.0</td>\n",
       "      <td>1.0</td>\n",
       "      <td>0.0</td>\n",
       "      <td>0.0</td>\n",
       "      <td>...</td>\n",
       "      <td>0.0</td>\n",
       "      <td>0.0</td>\n",
       "      <td>0.0</td>\n",
       "      <td>0.0</td>\n",
       "      <td>0.0</td>\n",
       "      <td>1.0</td>\n",
       "      <td>0.0</td>\n",
       "      <td>0.0</td>\n",
       "      <td>1.0</td>\n",
       "      <td>0.0</td>\n",
       "    </tr>\n",
       "    <tr>\n",
       "      <th>9</th>\n",
       "      <td>41</td>\n",
       "      <td>70037</td>\n",
       "      <td>10</td>\n",
       "      <td>0</td>\n",
       "      <td>3004</td>\n",
       "      <td>60</td>\n",
       "      <td>0.0</td>\n",
       "      <td>0.0</td>\n",
       "      <td>0.0</td>\n",
       "      <td>0.0</td>\n",
       "      <td>...</td>\n",
       "      <td>0.0</td>\n",
       "      <td>0.0</td>\n",
       "      <td>0.0</td>\n",
       "      <td>0.0</td>\n",
       "      <td>0.0</td>\n",
       "      <td>0.0</td>\n",
       "      <td>0.0</td>\n",
       "      <td>0.0</td>\n",
       "      <td>0.0</td>\n",
       "      <td>1.0</td>\n",
       "    </tr>\n",
       "  </tbody>\n",
       "</table>\n",
       "<p>10 rows × 110 columns</p>\n",
       "</div>"
      ],
      "text/plain": [
       "   age  fnlwgt  education.num  capital.gain  capital.loss  hours.per.week  \\\n",
       "0   90   77053              9             0          4356              40   \n",
       "1   82  132870              9             0          4356              18   \n",
       "2   66  186061             10             0          4356              40   \n",
       "3   54  140359              4             0          3900              40   \n",
       "4   41  264663             10             0          3900              40   \n",
       "5   34  216864              9             0          3770              45   \n",
       "6   38  150601              6             0          3770              40   \n",
       "7   74   88638             16             0          3683              20   \n",
       "8   68  422013              9             0          3683              40   \n",
       "9   41   70037             10             0          3004              60   \n",
       "\n",
       "   workclass_?  workclass_Federal-gov  workclass_Local-gov  \\\n",
       "0          1.0                    0.0                  0.0   \n",
       "1          0.0                    0.0                  0.0   \n",
       "2          1.0                    0.0                  0.0   \n",
       "3          0.0                    0.0                  0.0   \n",
       "4          0.0                    0.0                  0.0   \n",
       "5          0.0                    0.0                  0.0   \n",
       "6          0.0                    0.0                  0.0   \n",
       "7          0.0                    0.0                  0.0   \n",
       "8          0.0                    1.0                  0.0   \n",
       "9          0.0                    0.0                  0.0   \n",
       "\n",
       "   workclass_Never-worked     ...       native.country_Scotland  \\\n",
       "0                     0.0     ...                           0.0   \n",
       "1                     0.0     ...                           0.0   \n",
       "2                     0.0     ...                           0.0   \n",
       "3                     0.0     ...                           0.0   \n",
       "4                     0.0     ...                           0.0   \n",
       "5                     0.0     ...                           0.0   \n",
       "6                     0.0     ...                           0.0   \n",
       "7                     0.0     ...                           0.0   \n",
       "8                     0.0     ...                           0.0   \n",
       "9                     0.0     ...                           0.0   \n",
       "\n",
       "   native.country_South  native.country_Taiwan  native.country_Thailand  \\\n",
       "0                   0.0                    0.0                      0.0   \n",
       "1                   0.0                    0.0                      0.0   \n",
       "2                   0.0                    0.0                      0.0   \n",
       "3                   0.0                    0.0                      0.0   \n",
       "4                   0.0                    0.0                      0.0   \n",
       "5                   0.0                    0.0                      0.0   \n",
       "6                   0.0                    0.0                      0.0   \n",
       "7                   0.0                    0.0                      0.0   \n",
       "8                   0.0                    0.0                      0.0   \n",
       "9                   0.0                    0.0                      0.0   \n",
       "\n",
       "   native.country_Trinadad&Tobago  native.country_United-States  \\\n",
       "0                             0.0                           1.0   \n",
       "1                             0.0                           1.0   \n",
       "2                             0.0                           1.0   \n",
       "3                             0.0                           1.0   \n",
       "4                             0.0                           1.0   \n",
       "5                             0.0                           1.0   \n",
       "6                             0.0                           1.0   \n",
       "7                             0.0                           1.0   \n",
       "8                             0.0                           1.0   \n",
       "9                             0.0                           0.0   \n",
       "\n",
       "   native.country_Vietnam  native.country_Yugoslavia  income_<=50K  \\\n",
       "0                     0.0                        0.0           1.0   \n",
       "1                     0.0                        0.0           1.0   \n",
       "2                     0.0                        0.0           1.0   \n",
       "3                     0.0                        0.0           1.0   \n",
       "4                     0.0                        0.0           1.0   \n",
       "5                     0.0                        0.0           1.0   \n",
       "6                     0.0                        0.0           1.0   \n",
       "7                     0.0                        0.0           0.0   \n",
       "8                     0.0                        0.0           1.0   \n",
       "9                     0.0                        0.0           0.0   \n",
       "\n",
       "   income_>50K  \n",
       "0          0.0  \n",
       "1          0.0  \n",
       "2          0.0  \n",
       "3          0.0  \n",
       "4          0.0  \n",
       "5          0.0  \n",
       "6          0.0  \n",
       "7          1.0  \n",
       "8          0.0  \n",
       "9          1.0  \n",
       "\n",
       "[10 rows x 110 columns]"
      ]
     },
     "execution_count": 69,
     "metadata": {},
     "output_type": "execute_result"
    }
   ],
   "source": [
    "dummies = pd.get_dummies(data)\n",
    "dummies.head(10)"
   ]
  },
  {
   "cell_type": "code",
   "execution_count": 120,
   "metadata": {
    "collapsed": false
   },
   "outputs": [
    {
     "name": "stdout",
     "output_type": "stream",
     "text": [
      "<=50K\n",
      "<=50K\n",
      "<=50K\n",
      "<=50K\n",
      "<=50K\n",
      "Decided: <=50K\n",
      "Given:>50K\n"
     ]
    }
   ],
   "source": [
    "columns = list(dummies.columns.values)\n",
    "columns.remove(\"income_<=50K\")\n",
    "columns.remove(\"income_>50K\")\n",
    "columns.remove('fnlwgt')\n",
    "columns.remove('capital.gain')\n",
    "columns.remove('capital.loss')\n",
    "trainMin = 30000\n",
    "trainMax = 32000\n",
    "\n",
    "chosen = 45\n",
    "\n",
    "n=5\n",
    "\n",
    "lowestDist = []\n",
    "lowestIds = []\n",
    "for j in range (0,n):\n",
    "    lowestIds.append(0)\n",
    "    lowestDist.append(math.inf)\n",
    "\n",
    "#eucDistances = []\n",
    "\n",
    "value = 0\n",
    "for i in  range (trainMin, trainMax):\n",
    "    for k in columns:\n",
    "        value+=(dummies[k][i] - dummies[k][chosen]) ** 2\n",
    "    currentD = math.sqrt(value)\n",
    "    #eucDistances.append(currentD)\n",
    "   \n",
    "    for j in range (0,n):\n",
    "        \n",
    "        if (currentD <  lowestDist[j] and i not in lowestIds):\n",
    "            tmpD = lowestDist[j]\n",
    "            lowestDist[j] = currentD\n",
    "            currentD=lowestDist[j]\n",
    "            \n",
    "            tmpId = lowestIds[j]\n",
    "            lowestIds[j] = i\n",
    "            i=lowestIds[j]\n",
    "    \n",
    "    \n",
    "    value = 0\n",
    "    \n",
    "counter =0\n",
    "for l in range (0, len(lowestIds)):\n",
    "    print(data['income'][l])\n",
    "    if data['income'][l] =='>50K':        \n",
    "        counter+=1\n",
    "if counter>= n/2:\n",
    "    print(\"Decided: >50K\")\n",
    "else:\n",
    "    print(\"Decided: <=50K\")\n",
    "\n",
    "print('Given:' + data['income'][chosen])\n",
    "\n"
   ]
  },
  {
   "cell_type": "code",
   "execution_count": null,
   "metadata": {
    "collapsed": true
   },
   "outputs": [],
   "source": []
  },
  {
   "cell_type": "code",
   "execution_count": null,
   "metadata": {
    "collapsed": true
   },
   "outputs": [],
   "source": []
  }
 ],
 "metadata": {
  "anaconda-cloud": {},
  "kernelspec": {
   "display_name": "Python [default]",
   "language": "python",
   "name": "python3"
  },
  "language_info": {
   "codemirror_mode": {
    "name": "ipython",
    "version": 3
   },
   "file_extension": ".py",
   "mimetype": "text/x-python",
   "name": "python",
   "nbconvert_exporter": "python",
   "pygments_lexer": "ipython3",
   "version": "3.5.2"
  }
 },
 "nbformat": 4,
 "nbformat_minor": 0
}
